{
 "cells": [
  {
   "cell_type": "markdown",
   "id": "4ce99f31",
   "metadata": {
    "slideshow": {
     "slide_type": "slide"
    }
   },
   "source": [
    "# Final Project Presentation\n",
    "### Abigail Paterson"
   ]
  },
  {
   "cell_type": "markdown",
   "id": "6dfc6fee",
   "metadata": {
    "slideshow": {
     "slide_type": "slide"
    }
   },
   "source": [
    "## Question\n",
    "### What Factors Effect Children's Mental Health at School\n",
    "    - Determine which factors have the strongest impact on outcome\n",
    "    - Look at geographical differences between factors\n",
    "    - Looking specifically at California due to data constraints"
   ]
  },
  {
   "cell_type": "markdown",
   "id": "b1a18dda",
   "metadata": {
    "slideshow": {
     "slide_type": "fragment"
    }
   },
   "source": [
    "Focusing specifically on certain negative factors in a school environment"
   ]
  },
  {
   "cell_type": "markdown",
   "id": "b9ffb439",
   "metadata": {
    "slideshow": {
     "slide_type": "slide"
    }
   },
   "source": [
    "## Features\n",
    "\n",
    "### Output\n",
    "    - Percent of students reporting depression related feelings\n",
    "    \n",
    "### Inputs\n",
    "    - Bullying at school\n",
    "    - Student gang involvement\n",
    "    - Students truant from school in a year\n",
    "    "
   ]
  },
  {
   "cell_type": "markdown",
   "id": "488a38bf",
   "metadata": {
    "slideshow": {
     "slide_type": "slide"
    }
   },
   "source": [
    "## Data Characteristics"
   ]
  },
  {
   "cell_type": "markdown",
   "id": "7f21d173",
   "metadata": {
    "slideshow": {
     "slide_type": "fragment"
    }
   },
   "source": [
    "(There are some problems with the data which will be discussed later)"
   ]
  },
  {
   "cell_type": "markdown",
   "id": "91d9e991",
   "metadata": {
    "slideshow": {
     "slide_type": "fragment"
    }
   },
   "source": [
    "    - Unit of analysis is one grade level in a county for one year\n",
    "    - Features measured in percents\n",
    "    - Data is sourced from kidsdata.org"
   ]
  },
  {
   "cell_type": "markdown",
   "id": "521022df",
   "metadata": {
    "slideshow": {
     "slide_type": "slide"
    }
   },
   "source": [
    "## Methods\n",
    "\n",
    "#### Methods and Tools I Considered Using\n",
    "    - BeautifulSoup for webscraping\n",
    "    - Pandas for data manipulation\n",
    "    - SciKit Learn for machine learning\n",
    "    - ggplot, pyplot, and geopandas for visualizations"
   ]
  },
  {
   "cell_type": "markdown",
   "id": "49968a0c",
   "metadata": {
    "slideshow": {
     "slide_type": "slide"
    }
   },
   "source": [
    "## Methods\n",
    "#### Methods and Tools I Am Currently Using\n",
    "\n",
    "    - Selenium for webscraping\n",
    "    - Pandas for data manipulation\n",
    "    - SciKit Learn for machine learning\n",
    "    - ggplot, pyplot, and geopandas for visualizations"
   ]
  },
  {
   "cell_type": "markdown",
   "id": "b6821774",
   "metadata": {
    "slideshow": {
     "slide_type": "skip"
    }
   },
   "source": [
    "### NOTE THE NEXT CODE CHUNK. \n",
    "For the presentation I used a downloadable version of my data for convienience and proof of concept.\n",
    "Next code chunk has an example of using selenium to scrape the code\n"
   ]
  },
  {
   "cell_type": "code",
   "execution_count": 1,
   "id": "ca305e3f",
   "metadata": {
    "slideshow": {
     "slide_type": "skip"
    }
   },
   "outputs": [],
   "source": [
    "# download all the data\n",
    "#import necessary packages\n",
    "import pandas as pd\n",
    "import requests\n",
    "import lxml\n",
    "import html5lib\n",
    "from bs4 import BeautifulSoup\n",
    "import time # To put the system to sleep\n",
    "import random # for random numbers\n",
    "import warnings\n",
    "import sqlite3\n",
    "import missingno as miss\n",
    "from selenium import webdriver\n",
    "from plotnine import *\n",
    "import matplotlib.pyplot as plt\n",
    "warnings.filterwarnings('ignore')\n",
    "\n",
    "#urls for emotional health\n",
    "\n",
    "#2017-2019\n",
    "url_depression_19 = \"https://www.kidsdata.org/topic/662/depressive-feelings-grade/table#fmt=943&loc=2,127,347,1763,331,348,336,171,321,345,357,332,324,369,358,362,360,337,327,364,356,217,353,328,354,323,352,320,339,334,365,343,330,367,344,355,366,368,265,349,361,4,273,59,370,326,333,322,341,338,350,342,329,325,359,351,363,340,335&tf=134&ch=69,305,306,431,1177,1176&sortColumnId=0&sortType=asc\"\n",
    "#2015 - 2017\n",
    "url_depression_17 = \"https://www.kidsdata.org/topic/662/depressive-feelings-grade/table#fmt=943&loc=2,127,347,1763,331,348,336,171,321,345,357,332,324,369,358,362,360,337,327,364,356,217,353,328,354,323,352,320,339,334,365,343,330,367,344,355,366,368,265,349,361,4,273,59,370,326,333,322,341,338,350,342,329,325,359,351,363,340,335&tf=122&ch=69,305,306,431,1177,1176&sortColumnId=0&sortType=asc\"\n",
    "#2013 - 2015\n",
    "url_depression_15 = \"https://www.kidsdata.org/topic/662/depressive-feelings-grade/table#fmt=943&loc=2,127,347,1763,331,348,336,171,321,345,357,332,324,369,358,362,360,337,327,364,356,217,353,328,354,323,352,320,339,334,365,343,330,367,344,355,366,368,265,349,361,4,273,59,370,326,333,322,341,338,350,342,329,325,359,351,363,340,335&tf=93&ch=69,305,306,431,1177,1176&sortColumnId=0&sortType=asc\"\n",
    "#2011-2013\n",
    "url_depression_13 = \"https://www.kidsdata.org/topic/662/depressive-feelings-grade/table#fmt=943&loc=2,127,347,1763,331,348,336,171,321,345,357,332,324,369,358,362,360,337,327,364,356,217,353,328,354,323,352,320,339,334,365,343,330,367,344,355,366,368,265,349,361,4,273,59,370,326,333,322,341,338,350,342,329,325,359,351,363,340,335&tf=81&ch=69,305,306,431,1177,1176&sortColumnId=0&sortType=asc\"\n",
    "urls_depression = [url_depression_19, url_depression_17, url_depression_15, url_depression_13]\n",
    "\n",
    "driver = webdriver.Chrome('C:/chromedriver.exe')\n",
    "driver.get(url_depression_19)\n",
    "html = driver.page_source\n",
    "\n",
    "tables = pd.read_html(html)\n",
    "\n",
    "driver.close()"
   ]
  },
  {
   "cell_type": "code",
   "execution_count": 2,
   "id": "ad236461",
   "metadata": {},
   "outputs": [
    {
     "data": {
      "text/plain": [
       "[        California Percent       \n",
       "        Grade Level     Yes     No\n",
       " 0          Grade 7   30.4%  69.6%\n",
       " 1          Grade 9   32.6%  67.4%\n",
       " 2         Grade 11   36.6%  63.4%\n",
       " 3  Non-Traditional   32.1%  67.9%,\n",
       "     Alameda County Percent       \n",
       "        Grade Level     Yes     No\n",
       " 0          Grade 7   25.6%  74.4%\n",
       " 1          Grade 9   29.9%  70.1%\n",
       " 2         Grade 11   35.2%  64.8%\n",
       " 3  Non-Traditional   37.4%  62.6%,\n",
       "      Alpine County Percent     \n",
       "        Grade Level     Yes   No\n",
       " 0          Grade 7       S    S\n",
       " 1          Grade 9     NaN  NaN\n",
       " 2         Grade 11     NaN  NaN\n",
       " 3  Non-Traditional     NaN  NaN,\n",
       "      Amador County Percent       \n",
       "        Grade Level     Yes     No\n",
       " 0          Grade 7   32.4%  67.6%\n",
       " 1          Grade 9   39.0%  61.0%\n",
       " 2         Grade 11   34.8%  65.2%\n",
       " 3  Non-Traditional       S      S,\n",
       "       Butte County Percent       \n",
       "        Grade Level     Yes     No\n",
       " 0          Grade 7   30.0%  70.0%\n",
       " 1          Grade 9   29.1%  70.9%\n",
       " 2         Grade 11   21.8%  78.2%\n",
       " 3  Non-Traditional   46.7%  53.3%,\n",
       "   Calaveras County Percent       \n",
       "        Grade Level     Yes     No\n",
       " 0          Grade 7   28.3%  71.7%\n",
       " 1          Grade 9   35.1%  64.9%\n",
       " 2         Grade 11   34.0%  66.0%\n",
       " 3  Non-Traditional   48.7%  51.3%,\n",
       "      Colusa County Percent       \n",
       "        Grade Level     Yes     No\n",
       " 0          Grade 7   23.7%  76.3%\n",
       " 1          Grade 9   28.8%  71.2%\n",
       " 2         Grade 11   19.2%  80.8%\n",
       " 3  Non-Traditional       S      S,\n",
       "   Contra Costa County Percent       \n",
       "           Grade Level     Yes     No\n",
       " 0             Grade 7   22.9%  77.1%\n",
       " 1             Grade 9   28.4%  71.6%\n",
       " 2            Grade 11   35.5%  64.5%\n",
       " 3     Non-Traditional   32.5%  67.5%,\n",
       "   Del Norte County Percent       \n",
       "        Grade Level     Yes     No\n",
       " 0          Grade 7   41.3%  58.7%\n",
       " 1          Grade 9   39.7%  60.3%\n",
       " 2         Grade 11   45.9%  54.1%\n",
       " 3  Non-Traditional       S      S,\n",
       "   El Dorado County Percent       \n",
       "        Grade Level     Yes     No\n",
       " 0          Grade 7   24.8%  75.2%\n",
       " 1          Grade 9   32.7%  67.3%\n",
       " 2         Grade 11   39.5%  60.5%\n",
       " 3  Non-Traditional       S      S,\n",
       "      Fresno County Percent   \n",
       "        Grade Level     Yes No\n",
       " 0          Grade 7       S  S\n",
       " 1          Grade 9       S  S\n",
       " 2         Grade 11       S  S\n",
       " 3  Non-Traditional       S  S,\n",
       "       Glenn County Percent       \n",
       "        Grade Level     Yes     No\n",
       " 0          Grade 7   29.7%  70.3%\n",
       " 1          Grade 9   28.7%  71.3%\n",
       " 2         Grade 11   31.3%  68.7%\n",
       " 3  Non-Traditional       S      S,\n",
       "    Humboldt County Percent       \n",
       "        Grade Level     Yes     No\n",
       " 0          Grade 7   30.4%  69.6%\n",
       " 1          Grade 9   34.2%  65.8%\n",
       " 2         Grade 11   38.6%  61.4%\n",
       " 3  Non-Traditional   47.5%  52.5%,\n",
       "    Imperial County Percent       \n",
       "        Grade Level     Yes     No\n",
       " 0          Grade 7   30.8%  69.2%\n",
       " 1          Grade 9   36.5%  63.5%\n",
       " 2         Grade 11   37.1%  62.9%\n",
       " 3  Non-Traditional       S      S,\n",
       "        Inyo County Percent       \n",
       "        Grade Level     Yes     No\n",
       " 0          Grade 7   27.0%  73.0%\n",
       " 1          Grade 9   36.5%  63.5%\n",
       " 2         Grade 11   35.5%  64.5%\n",
       " 3  Non-Traditional   60.3%  39.7%,\n",
       "        Kern County Percent       \n",
       "        Grade Level     Yes     No\n",
       " 0          Grade 7   29.1%  70.9%\n",
       " 1          Grade 9   33.5%  66.5%\n",
       " 2         Grade 11   37.9%  62.1%\n",
       " 3  Non-Traditional   32.8%  67.2%,\n",
       "       Kings County Percent       \n",
       "        Grade Level     Yes     No\n",
       " 0          Grade 7       S      S\n",
       " 1          Grade 9   25.8%  74.2%\n",
       " 2         Grade 11   38.2%  61.8%\n",
       " 3  Non-Traditional     NaN    NaN,\n",
       "        Lake County Percent       \n",
       "        Grade Level     Yes     No\n",
       " 0          Grade 7   35.7%  64.3%\n",
       " 1          Grade 9   36.8%  63.2%\n",
       " 2         Grade 11   45.5%  54.5%\n",
       " 3  Non-Traditional       S      S,\n",
       "      Lassen County Percent       \n",
       "        Grade Level     Yes     No\n",
       " 0          Grade 7   39.0%  61.0%\n",
       " 1          Grade 9   31.8%  68.2%\n",
       " 2         Grade 11   43.8%  56.2%\n",
       " 3  Non-Traditional     NaN    NaN,\n",
       "   Los Angeles County Percent       \n",
       "          Grade Level     Yes     No\n",
       " 0            Grade 7   27.6%  72.4%\n",
       " 1            Grade 9   32.1%  67.9%\n",
       " 2           Grade 11   34.4%  65.6%\n",
       " 3    Non-Traditional   32.8%  67.2%,\n",
       "      Madera County Percent   \n",
       "        Grade Level     Yes No\n",
       " 0          Grade 7       S  S\n",
       " 1          Grade 9       S  S\n",
       " 2         Grade 11       S  S\n",
       " 3  Non-Traditional       S  S,\n",
       "       Marin County Percent       \n",
       "        Grade Level     Yes     No\n",
       " 0          Grade 7   20.9%  79.1%\n",
       " 1          Grade 9   28.8%  71.2%\n",
       " 2         Grade 11   35.5%  64.5%\n",
       " 3  Non-Traditional       S      S,\n",
       "    Mariposa County Percent       \n",
       "        Grade Level     Yes     No\n",
       " 0          Grade 7   23.7%  76.3%\n",
       " 1          Grade 9   28.3%  71.7%\n",
       " 2         Grade 11   42.4%  57.6%\n",
       " 3  Non-Traditional     NaN    NaN,\n",
       "   Mendocino County Percent       \n",
       "        Grade Level     Yes     No\n",
       " 0          Grade 7   29.3%  70.7%\n",
       " 1          Grade 9   32.7%  67.3%\n",
       " 2         Grade 11   38.2%  61.8%\n",
       " 3  Non-Traditional       S      S,\n",
       "      Merced County Percent       \n",
       "        Grade Level     Yes     No\n",
       " 0          Grade 7   27.4%  72.6%\n",
       " 1          Grade 9   32.5%  67.5%\n",
       " 2         Grade 11   38.6%  61.4%\n",
       " 3  Non-Traditional       S      S,\n",
       "       Modoc County Percent       \n",
       "        Grade Level     Yes     No\n",
       " 0          Grade 7   17.8%  82.2%\n",
       " 1          Grade 9   29.5%  70.5%\n",
       " 2         Grade 11   34.2%  65.8%\n",
       " 3  Non-Traditional     NaN    NaN,\n",
       "        Mono County Percent        \n",
       "        Grade Level     Yes      No\n",
       " 0          Grade 7   26.8%   73.2%\n",
       " 1          Grade 9   32.9%   67.1%\n",
       " 2         Grade 11   39.2%   60.8%\n",
       " 3  Non-Traditional    0.0%  100.0%,\n",
       "    Monterey County Percent       \n",
       "        Grade Level     Yes     No\n",
       " 0          Grade 7   26.5%  73.5%\n",
       " 1          Grade 9   28.6%  71.4%\n",
       " 2         Grade 11   26.8%  73.2%\n",
       " 3  Non-Traditional       S      S,\n",
       "        Napa County Percent       \n",
       "        Grade Level     Yes     No\n",
       " 0          Grade 7   26.0%  74.0%\n",
       " 1          Grade 9   30.7%  69.3%\n",
       " 2         Grade 11   39.1%  60.9%\n",
       " 3  Non-Traditional   34.7%  65.3%,\n",
       "      Nevada County Percent       \n",
       "        Grade Level     Yes     No\n",
       " 0          Grade 7   30.1%  69.9%\n",
       " 1          Grade 9   38.3%  61.7%\n",
       " 2         Grade 11   40.3%  59.7%\n",
       " 3  Non-Traditional   51.7%  48.3%,\n",
       "      Orange County Percent       \n",
       "        Grade Level     Yes     No\n",
       " 0          Grade 7   24.6%  75.4%\n",
       " 1          Grade 9   30.2%  69.8%\n",
       " 2         Grade 11   34.6%  65.4%\n",
       " 3  Non-Traditional   36.4%  63.6%,\n",
       "      Placer County Percent       \n",
       "        Grade Level     Yes     No\n",
       " 0          Grade 7   23.5%  76.5%\n",
       " 1          Grade 9   27.4%  72.6%\n",
       " 2         Grade 11   32.9%  67.1%\n",
       " 3  Non-Traditional   38.3%  61.7%,\n",
       "      Plumas County Percent       \n",
       "        Grade Level     Yes     No\n",
       " 0          Grade 7   25.1%  74.9%\n",
       " 1          Grade 9   31.7%  68.3%\n",
       " 2         Grade 11   31.3%  68.7%\n",
       " 3  Non-Traditional     NaN    NaN,\n",
       "   Riverside County Percent       \n",
       "        Grade Level     Yes     No\n",
       " 0          Grade 7   27.7%  72.3%\n",
       " 1          Grade 9   33.9%  66.1%\n",
       " 2         Grade 11   37.7%  62.3%\n",
       " 3  Non-Traditional   34.7%  65.3%,\n",
       "   Sacramento County Percent       \n",
       "         Grade Level     Yes     No\n",
       " 0           Grade 7   28.4%  71.6%\n",
       " 1           Grade 9   32.8%  67.2%\n",
       " 2          Grade 11   37.4%  62.6%\n",
       " 3   Non-Traditional       S      S,\n",
       "   San Benito County Percent       \n",
       "         Grade Level     Yes     No\n",
       " 0           Grade 7   29.2%  70.8%\n",
       " 1           Grade 9   31.4%  68.6%\n",
       " 2          Grade 11   38.9%  61.1%\n",
       " 3   Non-Traditional   34.8%  65.2%,\n",
       "   San Bernardino County Percent   \n",
       "             Grade Level     Yes No\n",
       " 0               Grade 7       S  S\n",
       " 1               Grade 9       S  S\n",
       " 2              Grade 11       S  S\n",
       " 3       Non-Traditional       S  S,\n",
       "   San Diego County Percent       \n",
       "        Grade Level     Yes     No\n",
       " 0          Grade 7   28.6%  71.4%\n",
       " 1          Grade 9   31.5%  68.5%\n",
       " 2         Grade 11   34.3%  65.7%\n",
       " 3  Non-Traditional   31.7%  68.3%,\n",
       "   San Francisco County Percent       \n",
       "            Grade Level     Yes     No\n",
       " 0              Grade 7   22.8%  77.2%\n",
       " 1              Grade 9   31.5%  68.5%\n",
       " 2             Grade 11   30.4%  69.6%\n",
       " 3      Non-Traditional   31.1%  68.9%,\n",
       "   San Joaquin County Percent       \n",
       "          Grade Level     Yes     No\n",
       " 0            Grade 7   29.5%  70.5%\n",
       " 1            Grade 9   31.6%  68.4%\n",
       " 2           Grade 11   35.6%  64.4%\n",
       " 3    Non-Traditional       S      S,\n",
       "   San Luis Obispo County Percent       \n",
       "              Grade Level     Yes     No\n",
       " 0                Grade 7   22.9%  77.1%\n",
       " 1                Grade 9   29.2%  70.8%\n",
       " 2               Grade 11   39.7%  60.3%\n",
       " 3        Non-Traditional   39.5%  60.5%,\n",
       "   San Mateo County Percent       \n",
       "        Grade Level     Yes     No\n",
       " 0          Grade 7   23.3%  76.7%\n",
       " 1          Grade 9   30.2%  69.8%\n",
       " 2         Grade 11   35.1%  64.9%\n",
       " 3  Non-Traditional       S      S,\n",
       "   Santa Barbara County Percent       \n",
       "            Grade Level     Yes     No\n",
       " 0              Grade 7   24.9%  75.1%\n",
       " 1              Grade 9   28.9%  71.1%\n",
       " 2             Grade 11   35.0%  65.0%\n",
       " 3      Non-Traditional   33.0%  67.0%,\n",
       "   Santa Clara County Percent       \n",
       "          Grade Level     Yes     No\n",
       " 0            Grade 7       S      S\n",
       " 1            Grade 9       S      S\n",
       " 2           Grade 11       S      S\n",
       " 3    Non-Traditional   14.6%  85.4%,\n",
       "   Santa Cruz County Percent       \n",
       "         Grade Level     Yes     No\n",
       " 0           Grade 7   25.1%  74.9%\n",
       " 1           Grade 9   28.4%  71.6%\n",
       " 2          Grade 11   37.4%  62.6%\n",
       " 3   Non-Traditional   47.0%  53.0%,\n",
       "      Shasta County Percent       \n",
       "        Grade Level     Yes     No\n",
       " 0          Grade 7       S      S\n",
       " 1          Grade 9   37.9%  62.1%\n",
       " 2         Grade 11   38.3%  61.7%\n",
       " 3  Non-Traditional       S      S,\n",
       "      Sierra County Percent    \n",
       "        Grade Level     Yes  No\n",
       " 0          Grade 7     NaN NaN\n",
       " 1          Grade 9     NaN NaN\n",
       " 2         Grade 11     NaN NaN\n",
       " 3  Non-Traditional     NaN NaN,\n",
       "    Siskiyou County Percent       \n",
       "        Grade Level     Yes     No\n",
       " 0          Grade 7   31.4%  68.6%\n",
       " 1          Grade 9   35.1%  64.9%\n",
       " 2         Grade 11   29.9%  70.1%\n",
       " 3  Non-Traditional       S      S,\n",
       "      Solano County Percent       \n",
       "        Grade Level     Yes     No\n",
       " 0          Grade 7   30.4%  69.6%\n",
       " 1          Grade 9   33.9%  66.1%\n",
       " 2         Grade 11   39.8%  60.2%\n",
       " 3  Non-Traditional   43.5%  56.5%,\n",
       "      Sonoma County Percent       \n",
       "        Grade Level     Yes     No\n",
       " 0          Grade 7   24.7%  75.3%\n",
       " 1          Grade 9   32.4%  67.6%\n",
       " 2         Grade 11   38.1%  61.9%\n",
       " 3  Non-Traditional       S      S,\n",
       "   Stanislaus County Percent       \n",
       "         Grade Level     Yes     No\n",
       " 0           Grade 7   29.1%  70.9%\n",
       " 1           Grade 9   34.1%  65.9%\n",
       " 2          Grade 11   33.4%  66.6%\n",
       " 3   Non-Traditional       S      S,\n",
       "      Sutter County Percent       \n",
       "        Grade Level     Yes     No\n",
       " 0          Grade 7   33.3%  66.7%\n",
       " 1          Grade 9       S      S\n",
       " 2         Grade 11       S      S\n",
       " 3  Non-Traditional       S      S,\n",
       "      Tehama County Percent       \n",
       "        Grade Level     Yes     No\n",
       " 0          Grade 7   27.4%  72.6%\n",
       " 1          Grade 9   26.3%  73.7%\n",
       " 2         Grade 11   35.7%  64.3%\n",
       " 3  Non-Traditional       S      S,\n",
       "     Trinity County Percent       \n",
       "        Grade Level     Yes     No\n",
       " 0          Grade 7   30.8%  69.2%\n",
       " 1          Grade 9   49.2%  50.8%\n",
       " 2         Grade 11   41.4%  58.6%\n",
       " 3  Non-Traditional       S      S,\n",
       "      Tulare County Percent   \n",
       "        Grade Level     Yes No\n",
       " 0          Grade 7       S  S\n",
       " 1          Grade 9       S  S\n",
       " 2         Grade 11       S  S\n",
       " 3  Non-Traditional       S  S,\n",
       "    Tuolumne County Percent       \n",
       "        Grade Level     Yes     No\n",
       " 0          Grade 7   33.0%  67.0%\n",
       " 1          Grade 9   43.9%  56.1%\n",
       " 2         Grade 11   41.9%  58.1%\n",
       " 3  Non-Traditional   43.4%  56.6%,\n",
       "     Ventura County Percent       \n",
       "        Grade Level     Yes     No\n",
       " 0          Grade 7   29.2%  70.8%\n",
       " 1          Grade 9   30.1%  69.9%\n",
       " 2         Grade 11   36.0%  64.0%\n",
       " 3  Non-Traditional   41.0%  59.0%,\n",
       "        Yolo County Percent       \n",
       "        Grade Level     Yes     No\n",
       " 0          Grade 7   25.6%  74.4%\n",
       " 1          Grade 9   32.4%  67.6%\n",
       " 2         Grade 11   36.3%  63.7%\n",
       " 3  Non-Traditional   32.3%  67.7%,\n",
       "        Yuba County Percent       \n",
       "        Grade Level     Yes     No\n",
       " 0          Grade 7   34.4%  65.6%\n",
       " 1          Grade 9   38.9%  61.1%\n",
       " 2         Grade 11   38.5%  61.5%\n",
       " 3  Non-Traditional       S      S]"
      ]
     },
     "execution_count": 2,
     "metadata": {},
     "output_type": "execute_result"
    }
   ],
   "source": [
    "tables"
   ]
  },
  {
   "cell_type": "code",
   "execution_count": 4,
   "id": "e780564e",
   "metadata": {
    "slideshow": {
     "slide_type": "skip"
    }
   },
   "outputs": [],
   "source": [
    "\n",
    "#download the data\n",
    "depression_13 = pd.read_csv(\"depression_13.csv\")\n",
    "depression_13[\"year\"] = \"2013\"\n",
    "\n",
    "depression_15 = pd.read_csv(\"depression_15.csv\")\n",
    "depression_15[\"year\"] = \"2015\"\n",
    "\n",
    "depression_17 = pd.read_csv(\"depression_17.csv\")\n",
    "depression_17[\"year\"] = \"2017\"\n",
    "\n",
    "depression_all = pd.concat([depression_13, depression_15, depression_17])\n",
    "\n",
    "depression_all = depression_all[depression_all['Data'] != \"N_A\"]\n",
    "depression_all = depression_all[depression_all['Data'] != \"S\"]\n",
    "depression_all = depression_all[depression_all[\"StudentResponse\"] != \"No\"]\n",
    "\n",
    "depression_all = depression_all.drop(columns= [\"FIPSCode\", \"LocationType\", \"DataFormat\", \"TimeFrame\", \"StudentResponse\"])\n",
    "\n",
    "depression_all = depression_all.rename(columns={\"Data\": \"students_reporting_feelings_of_depression\"})\n",
    "depression_all[\"students_reporting_feelings_of_depression\"] = depression_all[\"students_reporting_feelings_of_depression\"].astype(float)\n",
    "depression_all = depression_all.reset_index(drop=True)\n",
    "\n",
    "depression_all = depression_all.sort_values(by=[\"Location\", \"year\", \"GradeLevel\"])\n",
    "\n",
    "da_pre_dummy = depression_all\n",
    "\n",
    "#dummy grade level\n",
    "grade_dummies = pd.get_dummies(depression_all.GradeLevel)\n",
    "grade_dummies.columns = [c.lower().replace(\" \",\"_\") for c in grade_dummies.columns]\n",
    "grade_dummies = grade_dummies.drop(['non_traditional'],axis=1) # Baseline\n",
    "depression_all = pd.concat([depression_all.drop(['GradeLevel'],axis=1),grade_dummies],axis=1)\n",
    "\n",
    "#country grade level\n",
    "c_dummies = pd.get_dummies(depression_all.Location)\n",
    "c_dummies.columns = [c.lower().replace(\" \",\"_\") for c in c_dummies.columns]\n",
    "c_dummies = c_dummies.drop(['alameda_county'],axis=1) # Baseline\n",
    "depression_all = pd.concat([depression_all.drop(['Location'],axis=1),c_dummies],axis=1)\n",
    "\n",
    "\n",
    "\n",
    "#cleaning data for bullying\n",
    "bullying_13 = pd.read_csv(\"bullying_13.csv\")\n",
    "bullying_13[\"year\"] = \"2013\"\n",
    "\n",
    "bullying_15 = pd.read_csv(\"bullying_15.csv\")\n",
    "bullying_15[\"year\"] = \"2015\"\n",
    "\n",
    "bullying_17 = pd.read_csv(\"bullying_17.csv\")\n",
    "bullying_17[\"year\"] = \"2017\"\n",
    "\n",
    "bullying_all = pd.concat([bullying_13, bullying_15, bullying_17])\n",
    "bullying_all = bullying_all.drop(columns= [\"FIPSCode\", \"LocationType\", \"DataFormat\", \"TimeFrame\", ])\n",
    "\n",
    "bullying_all = bullying_all[bullying_all['Data'] != \"N_A\"]\n",
    "bullying_all = bullying_all[bullying_all['Data'] != \"S\"]\n",
    "bullying_all = bullying_all[bullying_all['StudentResponse'] != \"None\"]\n",
    "bullying_all = bullying_all.drop(columns=[\"StudentResponse\"])\n",
    "bullying_all = bullying_all.rename(columns={\"Data\": \"students_bullied_at_school\"})\n",
    "\n",
    "bullying_all = bullying_all.sort_values(by=[\"Location\", \"year\", \"GradeLevel\"])\n",
    "bullying_all = bullying_all.reset_index(drop=True)\n",
    "\n",
    "\n",
    "#cleaning data for gang involvement\n",
    "gang_13 = pd.read_csv(\"gang_13.csv\")\n",
    "gang_13[\"year\"] = \"2013\"\n",
    "\n",
    "gang_15 = pd.read_csv(\"gang_15.csv\")\n",
    "gang_15[\"year\"] = \"2015\"\n",
    "\n",
    "gang_17 = pd.read_csv(\"gang_17.csv\")\n",
    "gang_17[\"year\"] = \"2017\"\n",
    "\n",
    "gang_all = pd.concat([gang_13, gang_15, gang_17])\n",
    "\n",
    "gang_all = gang_all[gang_all['Data'] != \"N_A\"]\n",
    "gang_all = gang_all[gang_all['Data'] != \"S\"]\n",
    "gang_all = gang_all[gang_all['StudentResponse'] != \"No\"]\n",
    "\n",
    "gang_all = gang_all.drop(columns= [\"FIPSCode\", \"LocationType\", \"DataFormat\", \"TimeFrame\", \"StudentResponse\"])\n",
    "gang_all = gang_all.rename(columns={\"Data\": \"students_involved_with_gang_activity\"})\n",
    "\n",
    "gang_all = gang_all.sort_values(by=[\"Location\", \"year\", \"GradeLevel\"])\n",
    "gang_all = gang_all[[\"Location\", \"year\", \"GradeLevel\", \"students_involved_with_gang_activity\"]]\n",
    "gang_all = gang_all.reset_index(drop=True)\n",
    "\n",
    "\n",
    "#data for truancy\n",
    "tr_7 = pd.read_csv(\"truancy_all.csv\")\n",
    "tr_7[\"GradeLevel\"] = \"Grade 7\"\n",
    "\n",
    "tr_9 = pd.read_csv(\"truancy_all.csv\")\n",
    "tr_9[\"GradeLevel\"] = \"Grade 9\"\n",
    "\n",
    "tr_11 = pd.read_csv(\"truancy_all.csv\")\n",
    "tr_11[\"GradeLevel\"] = \"Grade 11\"\n",
    "\n",
    "tr_nt = pd.read_csv(\"truancy_all.csv\") \n",
    "tr_nt[\"GradeLevel\"] = \"Non_traditional\"\n",
    "\n",
    "tr_all = pd.concat([tr_7, tr_9, tr_11, tr_nt])\n",
    "tr_all = tr_all.sort_values(by=[\"Location\"])\n",
    "tr_all = tr_all.replace(\"2016\", \"2017\")\n",
    "\n",
    "tr_all = tr_all.drop(columns=[\"FIPSCode\", \"LocationType\", \"DataFormat\"])\n",
    "\n",
    "tr_all = tr_all[tr_all['Data'] != \"N_A\"]\n",
    "tr_all = tr_all[tr_all['Data'] != \"S\"]\n",
    "\n",
    "tr_all = tr_all.rename(columns={\"Data\": \"students_truant_yearly_per_100\"})\n",
    "tr_all = tr_all.rename(columns={\"TimeFrame\" : \"year\"})\n",
    "tr_all[\"year\"] = tr_all[\"year\"].astype(object)\n",
    "tr_all = tr_all.sort_values(by=[\"Location\", \"year\", \"GradeLevel\"])\n",
    "tr_all = tr_all.reset_index(drop=True)\n",
    "\n",
    "\n",
    "#create feature dataframe\n",
    "#bullying all is the shortest so we left join to that\n",
    "df_factors = gang_all.merge(bullying_all, how=\"left\", on =[\"Location\", \"GradeLevel\", \"year\"] )\n",
    "df_factors_tr = df_factors.merge(tr_all, how='left', on =[\"Location\"] )\n",
    "tr = df_factors_tr[\"students_truant_yearly_per_100\"].astype(\"float\")\n",
    "\n",
    "df_factors[\"students_truant_yearly_per_100\"] = tr\n",
    "df_factors[\"students_involved_with_gang_activity\"] = df_factors[\"students_involved_with_gang_activity\"].astype(\"float\")\n",
    "df_factors[\"students_bullied_at_school\"] = df_factors[\"students_bullied_at_school\"].astype(\"float\")"
   ]
  },
  {
   "cell_type": "markdown",
   "id": "8ed948ce",
   "metadata": {
    "slideshow": {
     "slide_type": "slide"
    }
   },
   "source": [
    "## Initial Findings\n",
    "\n",
    "This is still a work in progress. Current findings are in the data exploration"
   ]
  },
  {
   "cell_type": "markdown",
   "id": "492b4c36",
   "metadata": {
    "slideshow": {
     "slide_type": "slide"
    }
   },
   "source": [
    "## What I have done so far\n",
    "    - Scraped most of my data from the website\n",
    "    - Merged and cleaned and preprocessed the data I have\n",
    "    - Currently working to understand how to best use the data I have"
   ]
  },
  {
   "cell_type": "markdown",
   "id": "25bbd32c",
   "metadata": {
    "slideshow": {
     "slide_type": "slide"
    }
   },
   "source": [
    "## Analyze Output Variable\n",
    "    - Trying to predict Depression Related Feelings in Students\n",
    "    - Using as a metric of children's emotional wellbeing\n",
    "    "
   ]
  },
  {
   "cell_type": "code",
   "execution_count": 3,
   "id": "d0d6d267",
   "metadata": {
    "slideshow": {
     "slide_type": "fragment"
    }
   },
   "outputs": [
    {
     "data": {
      "text/html": [
       "<div>\n",
       "<style scoped>\n",
       "    .dataframe tbody tr th:only-of-type {\n",
       "        vertical-align: middle;\n",
       "    }\n",
       "\n",
       "    .dataframe tbody tr th {\n",
       "        vertical-align: top;\n",
       "    }\n",
       "\n",
       "    .dataframe thead th {\n",
       "        text-align: right;\n",
       "    }\n",
       "</style>\n",
       "<table border=\"1\" class=\"dataframe\">\n",
       "  <thead>\n",
       "    <tr style=\"text-align: right;\">\n",
       "      <th></th>\n",
       "      <th>Location</th>\n",
       "      <th>GradeLevel</th>\n",
       "      <th>students_reporting_feelings_of_depression</th>\n",
       "      <th>year</th>\n",
       "    </tr>\n",
       "  </thead>\n",
       "  <tbody>\n",
       "    <tr>\n",
       "      <th>1</th>\n",
       "      <td>Alameda County</td>\n",
       "      <td>Grade 11</td>\n",
       "      <td>28.5</td>\n",
       "      <td>2013</td>\n",
       "    </tr>\n",
       "    <tr>\n",
       "      <th>42</th>\n",
       "      <td>Alameda County</td>\n",
       "      <td>Grade 7</td>\n",
       "      <td>24.6</td>\n",
       "      <td>2013</td>\n",
       "    </tr>\n",
       "    <tr>\n",
       "      <th>79</th>\n",
       "      <td>Alameda County</td>\n",
       "      <td>Grade 9</td>\n",
       "      <td>28.1</td>\n",
       "      <td>2013</td>\n",
       "    </tr>\n",
       "    <tr>\n",
       "      <th>120</th>\n",
       "      <td>Alameda County</td>\n",
       "      <td>Non_Traditional</td>\n",
       "      <td>34.2</td>\n",
       "      <td>2013</td>\n",
       "    </tr>\n",
       "    <tr>\n",
       "      <th>133</th>\n",
       "      <td>Alameda County</td>\n",
       "      <td>Grade 11</td>\n",
       "      <td>33.3</td>\n",
       "      <td>2015</td>\n",
       "    </tr>\n",
       "  </tbody>\n",
       "</table>\n",
       "</div>"
      ],
      "text/plain": [
       "           Location       GradeLevel  \\\n",
       "1    Alameda County         Grade 11   \n",
       "42   Alameda County          Grade 7   \n",
       "79   Alameda County          Grade 9   \n",
       "120  Alameda County  Non_Traditional   \n",
       "133  Alameda County         Grade 11   \n",
       "\n",
       "     students_reporting_feelings_of_depression  year  \n",
       "1                                         28.5  2013  \n",
       "42                                        24.6  2013  \n",
       "79                                        28.1  2013  \n",
       "120                                       34.2  2013  \n",
       "133                                       33.3  2015  "
      ]
     },
     "execution_count": 3,
     "metadata": {},
     "output_type": "execute_result"
    }
   ],
   "source": [
    "da_pre_dummy.head()"
   ]
  },
  {
   "cell_type": "code",
   "execution_count": 10,
   "id": "9468cd17",
   "metadata": {
    "slideshow": {
     "slide_type": "subslide"
    }
   },
   "outputs": [
    {
     "data": {
      "text/html": [
       "<div>\n",
       "<style scoped>\n",
       "    .dataframe tbody tr th:only-of-type {\n",
       "        vertical-align: middle;\n",
       "    }\n",
       "\n",
       "    .dataframe tbody tr th {\n",
       "        vertical-align: top;\n",
       "    }\n",
       "\n",
       "    .dataframe thead th {\n",
       "        text-align: right;\n",
       "    }\n",
       "</style>\n",
       "<table border=\"1\" class=\"dataframe\">\n",
       "  <thead>\n",
       "    <tr style=\"text-align: right;\">\n",
       "      <th></th>\n",
       "      <th>students_reporting_feelings_of_depression</th>\n",
       "      <th>year</th>\n",
       "      <th>grade_11</th>\n",
       "      <th>grade_7</th>\n",
       "      <th>grade_9</th>\n",
       "      <th>amador_county</th>\n",
       "      <th>butte_county</th>\n",
       "      <th>calaveras_county</th>\n",
       "      <th>california</th>\n",
       "      <th>colusa_county</th>\n",
       "      <th>...</th>\n",
       "      <th>sonoma_county</th>\n",
       "      <th>stanislaus_county</th>\n",
       "      <th>sutter_county</th>\n",
       "      <th>tehama_county</th>\n",
       "      <th>trinity_county</th>\n",
       "      <th>tulare_county</th>\n",
       "      <th>tuolumne_county</th>\n",
       "      <th>ventura_county</th>\n",
       "      <th>yolo_county</th>\n",
       "      <th>yuba_county</th>\n",
       "    </tr>\n",
       "  </thead>\n",
       "  <tbody>\n",
       "    <tr>\n",
       "      <th>1</th>\n",
       "      <td>28.5</td>\n",
       "      <td>2013</td>\n",
       "      <td>1</td>\n",
       "      <td>0</td>\n",
       "      <td>0</td>\n",
       "      <td>0</td>\n",
       "      <td>0</td>\n",
       "      <td>0</td>\n",
       "      <td>0</td>\n",
       "      <td>0</td>\n",
       "      <td>...</td>\n",
       "      <td>0</td>\n",
       "      <td>0</td>\n",
       "      <td>0</td>\n",
       "      <td>0</td>\n",
       "      <td>0</td>\n",
       "      <td>0</td>\n",
       "      <td>0</td>\n",
       "      <td>0</td>\n",
       "      <td>0</td>\n",
       "      <td>0</td>\n",
       "    </tr>\n",
       "    <tr>\n",
       "      <th>42</th>\n",
       "      <td>24.6</td>\n",
       "      <td>2013</td>\n",
       "      <td>0</td>\n",
       "      <td>1</td>\n",
       "      <td>0</td>\n",
       "      <td>0</td>\n",
       "      <td>0</td>\n",
       "      <td>0</td>\n",
       "      <td>0</td>\n",
       "      <td>0</td>\n",
       "      <td>...</td>\n",
       "      <td>0</td>\n",
       "      <td>0</td>\n",
       "      <td>0</td>\n",
       "      <td>0</td>\n",
       "      <td>0</td>\n",
       "      <td>0</td>\n",
       "      <td>0</td>\n",
       "      <td>0</td>\n",
       "      <td>0</td>\n",
       "      <td>0</td>\n",
       "    </tr>\n",
       "    <tr>\n",
       "      <th>79</th>\n",
       "      <td>28.1</td>\n",
       "      <td>2013</td>\n",
       "      <td>0</td>\n",
       "      <td>0</td>\n",
       "      <td>1</td>\n",
       "      <td>0</td>\n",
       "      <td>0</td>\n",
       "      <td>0</td>\n",
       "      <td>0</td>\n",
       "      <td>0</td>\n",
       "      <td>...</td>\n",
       "      <td>0</td>\n",
       "      <td>0</td>\n",
       "      <td>0</td>\n",
       "      <td>0</td>\n",
       "      <td>0</td>\n",
       "      <td>0</td>\n",
       "      <td>0</td>\n",
       "      <td>0</td>\n",
       "      <td>0</td>\n",
       "      <td>0</td>\n",
       "    </tr>\n",
       "    <tr>\n",
       "      <th>120</th>\n",
       "      <td>34.2</td>\n",
       "      <td>2013</td>\n",
       "      <td>0</td>\n",
       "      <td>0</td>\n",
       "      <td>0</td>\n",
       "      <td>0</td>\n",
       "      <td>0</td>\n",
       "      <td>0</td>\n",
       "      <td>0</td>\n",
       "      <td>0</td>\n",
       "      <td>...</td>\n",
       "      <td>0</td>\n",
       "      <td>0</td>\n",
       "      <td>0</td>\n",
       "      <td>0</td>\n",
       "      <td>0</td>\n",
       "      <td>0</td>\n",
       "      <td>0</td>\n",
       "      <td>0</td>\n",
       "      <td>0</td>\n",
       "      <td>0</td>\n",
       "    </tr>\n",
       "    <tr>\n",
       "      <th>133</th>\n",
       "      <td>33.3</td>\n",
       "      <td>2015</td>\n",
       "      <td>1</td>\n",
       "      <td>0</td>\n",
       "      <td>0</td>\n",
       "      <td>0</td>\n",
       "      <td>0</td>\n",
       "      <td>0</td>\n",
       "      <td>0</td>\n",
       "      <td>0</td>\n",
       "      <td>...</td>\n",
       "      <td>0</td>\n",
       "      <td>0</td>\n",
       "      <td>0</td>\n",
       "      <td>0</td>\n",
       "      <td>0</td>\n",
       "      <td>0</td>\n",
       "      <td>0</td>\n",
       "      <td>0</td>\n",
       "      <td>0</td>\n",
       "      <td>0</td>\n",
       "    </tr>\n",
       "  </tbody>\n",
       "</table>\n",
       "<p>5 rows × 59 columns</p>\n",
       "</div>"
      ],
      "text/plain": [
       "     students_reporting_feelings_of_depression  year  grade_11  grade_7  \\\n",
       "1                                         28.5  2013         1        0   \n",
       "42                                        24.6  2013         0        1   \n",
       "79                                        28.1  2013         0        0   \n",
       "120                                       34.2  2013         0        0   \n",
       "133                                       33.3  2015         1        0   \n",
       "\n",
       "     grade_9  amador_county  butte_county  calaveras_county  california  \\\n",
       "1          0              0             0                 0           0   \n",
       "42         0              0             0                 0           0   \n",
       "79         1              0             0                 0           0   \n",
       "120        0              0             0                 0           0   \n",
       "133        0              0             0                 0           0   \n",
       "\n",
       "     colusa_county  ...  sonoma_county  stanislaus_county  sutter_county  \\\n",
       "1                0  ...              0                  0              0   \n",
       "42               0  ...              0                  0              0   \n",
       "79               0  ...              0                  0              0   \n",
       "120              0  ...              0                  0              0   \n",
       "133              0  ...              0                  0              0   \n",
       "\n",
       "     tehama_county  trinity_county  tulare_county  tuolumne_county  \\\n",
       "1                0               0              0                0   \n",
       "42               0               0              0                0   \n",
       "79               0               0              0                0   \n",
       "120              0               0              0                0   \n",
       "133              0               0              0                0   \n",
       "\n",
       "     ventura_county  yolo_county  yuba_county  \n",
       "1                 0            0            0  \n",
       "42                0            0            0  \n",
       "79                0            0            0  \n",
       "120               0            0            0  \n",
       "133               0            0            0  \n",
       "\n",
       "[5 rows x 59 columns]"
      ]
     },
     "execution_count": 10,
     "metadata": {},
     "output_type": "execute_result"
    }
   ],
   "source": [
    "depression_all.head()"
   ]
  },
  {
   "cell_type": "markdown",
   "id": "18cd98ba",
   "metadata": {
    "slideshow": {
     "slide_type": "slide"
    }
   },
   "source": [
    "### Histogram of depression variable"
   ]
  },
  {
   "cell_type": "code",
   "execution_count": 8,
   "id": "eed09594",
   "metadata": {
    "slideshow": {
     "slide_type": "fragment"
    }
   },
   "outputs": [
    {
     "data": {
      "image/png": "[encoded data removed]",
      "text/plain": [
       "<Figure size 1000x300 with 1 Axes>"
      ]
     },
     "metadata": {},
     "output_type": "display_data"
    },
    {
     "data": {
      "text/plain": [
       "<ggplot: (104178271519)>"
      ]
     },
     "execution_count": 8,
     "metadata": {},
     "output_type": "execute_result"
    }
   ],
   "source": [
    "d = da_pre_dummy.select_dtypes(include=\"float\").melt()\n",
    "(\n",
    "    ggplot(d,aes(x=\"value\")) +\n",
    "    geom_histogram(bins=25) +\n",
    "    facet_wrap(\"variable\",scales='free') +\n",
    "    theme(figure_size=(10,3),\n",
    "          subplots_adjust={'wspace':0.25})\n",
    ")\n"
   ]
  },
  {
   "cell_type": "markdown",
   "id": "a000fa4d",
   "metadata": {
    "slideshow": {
     "slide_type": "slide"
    }
   },
   "source": [
    "## Analyze Input Variables\n",
    "\n",
    "We will look at gang activity, truancy, and bullying"
   ]
  },
  {
   "cell_type": "code",
   "execution_count": 25,
   "id": "c4dcd70a",
   "metadata": {
    "slideshow": {
     "slide_type": "fragment"
    }
   },
   "outputs": [
    {
     "data": {
      "text/html": [
       "<div>\n",
       "<style scoped>\n",
       "    .dataframe tbody tr th:only-of-type {\n",
       "        vertical-align: middle;\n",
       "    }\n",
       "\n",
       "    .dataframe tbody tr th {\n",
       "        vertical-align: top;\n",
       "    }\n",
       "\n",
       "    .dataframe thead th {\n",
       "        text-align: right;\n",
       "    }\n",
       "</style>\n",
       "<table border=\"1\" class=\"dataframe\">\n",
       "  <thead>\n",
       "    <tr style=\"text-align: right;\">\n",
       "      <th></th>\n",
       "      <th>Location</th>\n",
       "      <th>year</th>\n",
       "      <th>GradeLevel</th>\n",
       "      <th>students_involved_with_gang_activity</th>\n",
       "      <th>students_bullied_at_school</th>\n",
       "      <th>students_truant_yearly_per_100</th>\n",
       "    </tr>\n",
       "  </thead>\n",
       "  <tbody>\n",
       "    <tr>\n",
       "      <th>0</th>\n",
       "      <td>Alameda County</td>\n",
       "      <td>2013</td>\n",
       "      <td>Grade 11</td>\n",
       "      <td>6.8</td>\n",
       "      <td>26.5</td>\n",
       "      <td>32.2</td>\n",
       "    </tr>\n",
       "    <tr>\n",
       "      <th>1</th>\n",
       "      <td>Alameda County</td>\n",
       "      <td>2013</td>\n",
       "      <td>Grade 7</td>\n",
       "      <td>6.9</td>\n",
       "      <td>39.7</td>\n",
       "      <td>32.2</td>\n",
       "    </tr>\n",
       "    <tr>\n",
       "      <th>2</th>\n",
       "      <td>Alameda County</td>\n",
       "      <td>2013</td>\n",
       "      <td>Grade 9</td>\n",
       "      <td>6.5</td>\n",
       "      <td>34.5</td>\n",
       "      <td>32.2</td>\n",
       "    </tr>\n",
       "    <tr>\n",
       "      <th>3</th>\n",
       "      <td>Alameda County</td>\n",
       "      <td>2013</td>\n",
       "      <td>Non_Traditional</td>\n",
       "      <td>10.6</td>\n",
       "      <td>26.4</td>\n",
       "      <td>32.2</td>\n",
       "    </tr>\n",
       "    <tr>\n",
       "      <th>4</th>\n",
       "      <td>Alameda County</td>\n",
       "      <td>2015</td>\n",
       "      <td>Grade 11</td>\n",
       "      <td>5.1</td>\n",
       "      <td>26.5</td>\n",
       "      <td>27.7</td>\n",
       "    </tr>\n",
       "  </tbody>\n",
       "</table>\n",
       "</div>"
      ],
      "text/plain": [
       "         Location  year       GradeLevel  \\\n",
       "0  Alameda County  2013         Grade 11   \n",
       "1  Alameda County  2013          Grade 7   \n",
       "2  Alameda County  2013          Grade 9   \n",
       "3  Alameda County  2013  Non_Traditional   \n",
       "4  Alameda County  2015         Grade 11   \n",
       "\n",
       "   students_involved_with_gang_activity  students_bullied_at_school  \\\n",
       "0                                   6.8                        26.5   \n",
       "1                                   6.9                        39.7   \n",
       "2                                   6.5                        34.5   \n",
       "3                                  10.6                        26.4   \n",
       "4                                   5.1                        26.5   \n",
       "\n",
       "   students_truant_yearly_per_100  \n",
       "0                            32.2  \n",
       "1                            32.2  \n",
       "2                            32.2  \n",
       "3                            32.2  \n",
       "4                            27.7  "
      ]
     },
     "execution_count": 25,
     "metadata": {},
     "output_type": "execute_result"
    }
   ],
   "source": [
    "df_factors.head()"
   ]
  },
  {
   "cell_type": "markdown",
   "id": "13804493",
   "metadata": {
    "slideshow": {
     "slide_type": "slide"
    }
   },
   "source": [
    "### Histogram of feature variables"
   ]
  },
  {
   "cell_type": "code",
   "execution_count": 41,
   "id": "15f17302",
   "metadata": {
    "slideshow": {
     "slide_type": "fragment"
    }
   },
   "outputs": [
    {
     "data": {
      "image/png": "[encoded data removed]",
      "text/plain": [
       "<Figure size 1000x300 with 3 Axes>"
      ]
     },
     "metadata": {},
     "output_type": "display_data"
    },
    {
     "data": {
      "text/plain": [
       "<ggplot: (104183333075)>"
      ]
     },
     "execution_count": 41,
     "metadata": {},
     "output_type": "execute_result"
    }
   ],
   "source": [
    "d = df_factors.select_dtypes(include=\"float\").melt()\n",
    "(\n",
    "    ggplot(d,aes(x=\"value\")) +\n",
    "    geom_histogram(bins=25) +\n",
    "    facet_wrap(\"variable\",scales='free') +\n",
    "    theme(figure_size=(10,3),\n",
    "          subplots_adjust={'wspace':0.25},\n",
    "          axis_text_x=element_text(rotation=45, hjust=1))\n",
    "    \n",
    ")"
   ]
  },
  {
   "cell_type": "markdown",
   "id": "cbd089f8",
   "metadata": {
    "slideshow": {
     "slide_type": "slide"
    }
   },
   "source": [
    "## Lessons Learned Thus Far\n",
    "    "
   ]
  },
  {
   "cell_type": "markdown",
   "id": "28d28da5",
   "metadata": {
    "slideshow": {
     "slide_type": "fragment"
    }
   },
   "source": [
    "#### Overhead issues\n",
    "\n",
    "    - Geopandas is very hard to download on a PC\n",
    "    - My data would not load using BeautifulSoup. It was dynamically loaded, so I needed to use Selenium"
   ]
  },
  {
   "cell_type": "markdown",
   "id": "0f844dec",
   "metadata": {
    "slideshow": {
     "slide_type": "fragment"
    }
   },
   "source": [
    "#### Data Troubleshooting\n",
    "    - My data is fairly small(less than 700 observations)\n",
    "    - The way the data had been collected, it seems it might have been the same students surveyed across multiple years"
   ]
  },
  {
   "cell_type": "markdown",
   "id": "c41d2008",
   "metadata": {
    "slideshow": {
     "slide_type": "fragment"
    }
   },
   "source": [
    "#### Limitations\n",
    "\n",
    "    - This data is not very robust\n",
    "    - Would like a better measure of emotional wellbeing\n",
    "    - Wish I had more entries"
   ]
  }
 ],
 "metadata": {
  "celltoolbar": "Slideshow",
  "kernelspec": {
   "display_name": "Python 3 (ipykernel)",
   "language": "python",
   "name": "python3"
  },
  "language_info": {
   "codemirror_mode": {
    "name": "ipython",
    "version": 3
   },
   "file_extension": ".py",
   "mimetype": "text/x-python",
   "name": "python",
   "nbconvert_exporter": "python",
   "pygments_lexer": "ipython3",
   "version": "3.9.7"
  }
 },
 "nbformat": 4,
 "nbformat_minor": 5
}
